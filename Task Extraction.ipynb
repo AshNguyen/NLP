{
 "cells": [
  {
   "cell_type": "code",
   "execution_count": 4,
   "metadata": {},
   "outputs": [],
   "source": [
    "import numpy as np\n",
    "import matplotlib.pyplot as plt\n",
    "import spacy\n",
    "import pandas as pd\n",
    "from spacy import displacy\n",
    "from scipy.spatial import distance\n",
    "\n",
    "nlp = spacy.load('en_core_web_lg')"
   ]
  },
  {
   "cell_type": "code",
   "execution_count": 12,
   "metadata": {},
   "outputs": [
    {
     "name": "stdout",
     "output_type": "stream",
     "text": [
      "********************\n",
      "Frank, can you finish the pointer-generator model by Friday?\n",
      "0.5733126520259508\n",
      "********************\n",
      "********************\n",
      "Yes.\n",
      "0.3696133588784712\n",
      "********************\n",
      "********************\n",
      "This Friday, the 7th.\n",
      "0.47811249854000737\n",
      "********************\n",
      "********************\n",
      "And by the way Hoang, how are you doing on the product design?\n",
      "0.5262451993206334\n",
      "********************\n",
      "********************\n",
      "Can it be ready in 3 days?\n",
      "\n",
      "\n",
      "0.5513430312898829\n",
      "********************\n",
      "********************\n",
      "We also need to decide between Google and AWS API for the speech-to-text engine.\n",
      "0.5348258844407383\n",
      "********************\n",
      "********************\n",
      "Hoang mentioned AWS has around 10% more accuracy on, on what?\n",
      "0.4686540295398947\n",
      "********************\n",
      "********************\n",
      "I think it was on edit distance?\n",
      "\n",
      "\n",
      "0.4587885394986432\n",
      "********************\n",
      "********************\n",
      "Maybe we should try to attend 3 or 4 meetings this week to verify that the model can work in a noisy environment.\n",
      "\n",
      "\n",
      "0.5747051615660397\n",
      "********************\n",
      "********************\n",
      "I like elephants.\n",
      "0.35080447708421225\n",
      "********************\n",
      "********************\n",
      "What a beautiful day!\n",
      "0.4630770867317649\n",
      "********************\n",
      "********************\n",
      "We should perform benchmarking before the week end.\n",
      "\n",
      "\n",
      "0.5302328401938435\n",
      "********************\n",
      "********************\n",
      "There are animals in the local zoo. \n",
      "\n",
      "0.47605255578346445\n",
      "********************\n"
     ]
    }
   ],
   "source": [
    "target = nlp(\"action item\")\n",
    "\n",
    "doc = nlp('''Frank, can you finish the pointer-generator model by Friday? Yes. This Friday, the 7th. And by the way Hoang, how are you doing on the product design? Can it be ready in 3 days?\n",
    "\n",
    "We also need to decide between Google and AWS API for the speech-to-text engine. Hoang mentioned AWS has around 10% more accuracy on, on what? I think it was on edit distance?\n",
    "\n",
    "Maybe we should try to attend 3 or 4 meetings this week to verify that the model can work in a noisy environment.\n",
    "\n",
    "I like elephants. What a beautiful day! We should perform benchmarking before the week end.\n",
    "\n",
    "There are animals in the local zoo. \n",
    "''')\n",
    "    \n",
    "for sent in doc.sents: \n",
    "    print('*'*20)\n",
    "    print(sent.text)\n",
    "    print(target.similarity(sent))\n",
    "    print('*'*20)"
   ]
  }
 ],
 "metadata": {
  "kernelspec": {
   "display_name": "Python 3",
   "language": "python",
   "name": "python3"
  },
  "language_info": {
   "codemirror_mode": {
    "name": "ipython",
    "version": 3
   },
   "file_extension": ".py",
   "mimetype": "text/x-python",
   "name": "python",
   "nbconvert_exporter": "python",
   "pygments_lexer": "ipython3",
   "version": "3.6.8"
  }
 },
 "nbformat": 4,
 "nbformat_minor": 2
}
